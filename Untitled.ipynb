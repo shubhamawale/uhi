{
 "cells": [
  {
   "cell_type": "markdown",
   "id": "f6ef4d16-eebe-4add-b585-97ba3975a6ca",
   "metadata": {},
   "source": [
    "##  Problem Statement: Find publicly available data for key *supply-demand* factors that influence US home prices *nationally*. Then, build a data science model that explains how these factors impacted home prices over the last 20 years."
   ]
  },
  {
   "cell_type": "markdown",
   "id": "aa2f26e2-cce6-4381-a828-efc19d70f2d0",
   "metadata": {},
   "source": [
    "### Data source "
   ]
  },
  {
   "cell_type": "markdown",
   "id": "8bbe02f2-7acf-45f8-bd80-e97527b27c17",
   "metadata": {},
   "source": [
    "<li> Data source contains supply and demand </li>\n",
    "<li> Link - https://www.kaggle.com/datasets/utkarshx27/factors-influence-house-price-in-us </li>"
   ]
  },
  {
   "cell_type": "code",
   "execution_count": 15,
   "id": "690570ba-0e2f-4756-b150-e9955bbe35f3",
   "metadata": {},
   "outputs": [],
   "source": [
    "# importing required libraries\n",
    "import pandas as pd\n",
    "import matplotlib.pyplot as plt"
   ]
  },
  {
   "cell_type": "code",
   "execution_count": 29,
   "id": "f3e4e756-dd8c-4c7e-a174-d144a877df58",
   "metadata": {},
   "outputs": [],
   "source": [
    "#reading data\n",
    "supply_df = pd.read_csv(\"supply.csv\")\n",
    "demand_df = pd.read_csv(\"demand.csv\")"
   ]
  },
  {
   "cell_type": "code",
   "execution_count": 30,
   "id": "04bea0cb-31c5-457a-a426-77dc37aa15da",
   "metadata": {},
   "outputs": [
    {
     "data": {
      "text/plain": [
       "Index(['DATE', 'CSUSHPISA', 'MSACSR', 'PERMIT', 'TLRESCONS', 'EVACANTUSQ176N'], dtype='object')"
      ]
     },
     "execution_count": 30,
     "metadata": {},
     "output_type": "execute_result"
    }
   ],
   "source": [
    "supply_df.columns"
   ]
  },
  {
   "cell_type": "markdown",
   "id": "f4750f8e-30f1-477d-baca-71f833e70675",
   "metadata": {},
   "source": [
    "<div style=\"background-color:#f5f3e9;\">\n",
    "Supply File:\n",
    "    <ul>\n",
    "     <li>DATE: The date of the observation. (2003 - 2023)</li>\n",
    "     <li>CSUSHPISA: S&P/Case-Shiller U.S. National Home Price Index </li>\n",
    "     <li>MSACSR: Monthly Supply of New Houses in the United States</li>\n",
    "     <li>PERMIT: This variable represents the number of new housing units authorized for construction in permit-issuing places. (Thousands of Units)</li>\n",
    "     <li>TLRESCONS: This variable represents the total construction spending on residential projects. (Millions of Dollars) </li>\n",
    "     <li>EVACANTUSQ176N: It provides an estimate of the number of vacant housing units in the United States. (Thousands of Units)</li>\n",
    "    </ul>\n",
    "</div>    "
   ]
  },
  {
   "cell_type": "code",
   "execution_count": 31,
   "id": "9d95ea0e-0fa9-4312-9a5e-625c1f5dc901",
   "metadata": {},
   "outputs": [
    {
     "data": {
      "text/plain": [
       "Index(['DATE', 'CSUSHPISA', 'MORTGAGE30US', 'UMCSENT', 'INTDSRUSM193N',\n",
       "       'MSPUS', 'GDP'],\n",
       "      dtype='object')"
      ]
     },
     "execution_count": 31,
     "metadata": {},
     "output_type": "execute_result"
    }
   ],
   "source": [
    "demand_df.columns"
   ]
  },
  {
   "cell_type": "markdown",
   "id": "d83e97da-04af-4605-afb8-80deb7432518",
   "metadata": {},
   "source": [
    "<div style=\"background-color:#f5f3e9;\">\n",
    "Demand File:\n",
    "    <ul>\n",
    "     <li>DATE: The date of the observation. (2003 - 2023) </li>\n",
    "     <li>CSUSHPISA: This variable serves as a proxy for home prices and represents the home price index for the United States. </li>\n",
    "     <li>MORTGAGE15US: 30-Year Fixed Rate Mortgage Average in the United States (Percent)</li>\n",
    "     <li>UMCSENT: It measures the consumer sentiment index based on surveys conducted by the University of Michigan.</li>\n",
    "     <li>INTDSRUSM193N: This variable represents the interest rates or discount rates for the United States. (Billions of Dollars) </li>\n",
    "     <li>MSPUS: Median Sales Price of Houses Sold for the United States</li>\n",
    "     <li>GDP: Gross Domestic Product (Billions of Dollars)</li>\n",
    "    </ul>\n",
    "</div>"
   ]
  },
  {
   "cell_type": "code",
   "execution_count": 32,
   "id": "fd40b624-42ce-434a-a616-caddb1948693",
   "metadata": {},
   "outputs": [],
   "source": [
    "supply_df['DATE'] = pd.to_datetime(supply_df['DATE'])\n",
    "demand_df['DATE'] = pd.to_datetime(demand_df['DATE'])\n",
    "\n",
    "merged_df = pd.merge(supply_df, demand_df, on='DATE', suffixes=('_supply', '_demand'))\n",
    "\n",
    "merged_df.dropna(subset=['MSACSR', 'PERMIT', 'TLRESCONS', 'EVACANTUSQ176N', 'MORTGAGE30US', 'GDP', 'UMCSENT'], inplace=True)\n",
    "\n",
    "merged_df['INTDSRUSM193N'].fillna(merged_df['INTDSRUSM193N'].mean(),inplace=True)"
   ]
  },
  {
   "cell_type": "code",
   "execution_count": 33,
   "id": "92ac8a8a-0287-451d-b4ea-f593fad71ac2",
   "metadata": {},
   "outputs": [],
   "source": [
    "merged_df.drop('CSUSHPISA_supply', axis=1, inplace=True)\n",
    "\n",
    "merged_df.rename(columns={'CSUSHPISA_demand': 'CSUSHPISA'}, inplace=True)\n",
    "merged_df['CSUSHPISA'] = merged_df['CSUSHPISA'].fillna(merged_df['CSUSHPISA'].mean())"
   ]
  },
  {
   "cell_type": "code",
   "execution_count": 34,
   "id": "1c0be84c-a836-4fe3-99ec-6f4d239941e2",
   "metadata": {},
   "outputs": [],
   "source": [
    "merged_df = merged_df.astype({'CSUSHPISA': 'float64', 'MSACSR': 'float64', 'PERMIT': 'float64', 'TLRESCONS': 'float64', 'EVACANTUSQ176N': 'int64'})"
   ]
  },
  {
   "cell_type": "markdown",
   "id": "dc952706-6ef2-4816-af8b-5e863a60d43f",
   "metadata": {},
   "source": [
    "###  Exploratory Data Analysis"
   ]
  },
  {
   "cell_type": "code",
   "execution_count": 27,
   "id": "1144759a-232f-49df-9eb2-9b34315dff48",
   "metadata": {},
   "outputs": [
    {
     "name": "stdout",
     "output_type": "stream",
     "text": [
      "           Factors  Correlation with CSUSHPISA\n",
      "0             DATE                    0.726768\n",
      "1           MSACSR                    0.121048\n",
      "2           PERMIT                    0.382217\n",
      "3        TLRESCONS                    0.861225\n",
      "4   EVACANTUSQ176N                   -0.584710\n",
      "5        CSUSHPISA                    1.000000\n",
      "6     MORTGAGE30US                   -0.215379\n",
      "7          UMCSENT                   -0.096213\n",
      "8    INTDSRUSM193N                    0.102608\n",
      "9            MSPUS                    0.907924\n",
      "10             GDP                    0.823877\n"
     ]
    }
   ],
   "source": [
    "correlation = merged_df.corr()['CSUSHPISA']\n",
    "correlation_table = pd.DataFrame(correlation).reset_index()\n",
    "correlation_table.columns = ['Factors', 'Correlation with CSUSHPISA']\n",
    "print(correlation_table)"
   ]
  },
  {
   "cell_type": "markdown",
   "id": "ad2ee00d-9c86-4170-8ae8-42761ea7e289",
   "metadata": {},
   "source": [
    "<div style=\"background-color:#f5f3e9;\">\n",
    "Correlation Explanation:\n",
    "    <ul>\n",
    "     <li>There is a strong positive relationship between total construction spending on residential projects and CSUSHPISA. This suggests that higher construction spending is strongly associated with higher home prices.</li>\n",
    "     <li>There is a strong positive relationship between the median sales price of houses sold and CSUSHPISA. Higher median sales prices are strongly associated with higher home prices.</li>\n",
    "     <li>There is a strong positive relationship between GDP and CSUSHPISA. Higher GDP is strongly associated with higher home prices.</li>\n",
    "    </ul>\n",
    "</div>"
   ]
  },
  {
   "cell_type": "code",
   "execution_count": null,
   "id": "955126a1-ded9-43a3-86c1-3d2c617d922e",
   "metadata": {},
   "outputs": [],
   "source": []
  }
 ],
 "metadata": {
  "kernelspec": {
   "display_name": "Python 3 (ipykernel)",
   "language": "python",
   "name": "python3"
  },
  "language_info": {
   "codemirror_mode": {
    "name": "ipython",
    "version": 3
   },
   "file_extension": ".py",
   "mimetype": "text/x-python",
   "name": "python",
   "nbconvert_exporter": "python",
   "pygments_lexer": "ipython3",
   "version": "3.11.5"
  }
 },
 "nbformat": 4,
 "nbformat_minor": 5
}
